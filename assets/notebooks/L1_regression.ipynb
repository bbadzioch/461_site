{
 "cells": [
  {
   "cell_type": "markdown",
   "id": "c4c581dd",
   "metadata": {},
   "source": [
    "# $\\bf L_1$ regression"
   ]
  },
  {
   "cell_type": "markdown",
   "id": "18bcd2ad",
   "metadata": {},
   "source": [
    "The code balow computes coefficients of L1- and L2-regression functions for given data, and plots these functions."
   ]
  },
  {
   "cell_type": "code",
   "execution_count": 2,
   "id": "0f45feed",
   "metadata": {},
   "outputs": [],
   "source": [
    "from scipy.optimize import linprog\n",
    "import numpy as np\n",
    "import matplotlib.pyplot as plt\n",
    "\n",
    "def l1_regression(x, y):\n",
    "    \"\"\"\n",
    "    Computes L1-regression using linear programming. \n",
    "\n",
    "    x:\n",
    "        An array of x values.\n",
    "    y: \n",
    "        An array of y values.\n",
    "\n",
    "    Returns:  \n",
    "        An array [a, b] with coefficients of the L1-regression \n",
    "        function f(x) = ax + b. \n",
    "    \"\"\"\n",
    "    x = np.array(x)\n",
    "    y = np.array(y)\n",
    "    c = np.r_[0, 0, np.ones(len(x))]\n",
    "    A_ub = np.c_[np.r_[x, -x][:, None], \n",
    "                 np.r_[np.ones(len(x)), -np.ones(len(x))][:, None],\n",
    "                 np.r_[-np.eye(len(x)),-np.eye(len(x))]\n",
    "                ]\n",
    "    b_ub = np.r_[y, -y]\n",
    "    res = linprog(c = c, \n",
    "                  A_ub = A_ub,\n",
    "                  b_ub = b_ub,\n",
    "                  bounds = [(None, None)]*2 + [(0, None)]*len(x), \n",
    "                 )\n",
    "    return res.x[:2]\n",
    "\n",
    "def l2_regression(x, y):\n",
    "    \"\"\"\n",
    "    Computes L2 (i.e. least squares) regression. \n",
    "\n",
    "    x:\n",
    "        An array of x values.\n",
    "    y: \n",
    "        An array of y values.\n",
    "\n",
    "    Returns:  \n",
    "        An array [a, b] with coefficient of the L2-regression \n",
    "        function f(x) = ax + b. \n",
    "    \"\"\"\n",
    "    return np.polyfit(x, y, deg=1)\n",
    "\n",
    "\n",
    "def plot_regressions(x, y, ylim=None):\n",
    "    \"\"\"\n",
    "    Plots side by side the L1- and L2-regression functions.\n",
    "\n",
    "    x:\n",
    "        An array of x values.\n",
    "    y: \n",
    "        An array of y values.\n",
    "    ylim:\n",
    "        A tuple with limits of the y-axis. \n",
    "\n",
    "    Returns:\n",
    "       A dictionary with lists of coefficients for L1- \n",
    "       and L2-regression functions. \n",
    "    \"\"\"\n",
    "    plt.figure(figsize = (15, 5))\n",
    "    l1 = l1_regression(x, y)\n",
    "    l2 = l2_regression(x, y)\n",
    "    X = np.r_[x[0] - 1, x[-1] + 1]\n",
    "    Y = np.c_[X, np.ones(2)]\n",
    "    plt.subplot(121)\n",
    "    plt.title(f\"$L_1$ regression\\n$y = {l1[0]:.2f}x +{l1[1]:.2f}$\", size=18)\n",
    "    if ylim is not None:\n",
    "        plt.ylim(*ylim)\n",
    "    plt.plot(X, Y@l1[:, None], 'b-', lw=3) \n",
    "    plt.plot(x, y, 'ro', ms=8)\n",
    " \n",
    "    plt.subplot(122)\n",
    "    plt.title(f\"$L_2$ regression\\n$y = {l2[0]:.2f}x +{l2[1]:.2f}$\", size=18)\n",
    "    if ylim is not None:\n",
    "        plt.ylim(*ylim)\n",
    "    plt.plot(X, Y@l2[:, None], 'b-', lw=3)\n",
    "    plt.plot(x, y, 'ro', ms=8)\n",
    "    return {\"l1\": l1, \"l2\": l2}"
   ]
  },
  {
   "cell_type": "markdown",
   "id": "def63105",
   "metadata": {},
   "source": [
    "Sample regression plot:"
   ]
  },
  {
   "cell_type": "code",
   "execution_count": 3,
   "id": "cc8aedb5",
   "metadata": {},
   "outputs": [
    {
     "data": {
      "text/plain": [
       "{'l1': array([ 1., -0.]), 'l2': array([0., 2.])}"
      ]
     },
     "execution_count": 3,
     "metadata": {},
     "output_type": "execute_result"
    },
    {
     "data": {
      "image/png": "[encoded data removed]",
      "text/plain": [
       "<Figure size 1080x360 with 2 Axes>"
      ]
     },
     "metadata": {
      "needs_background": "light"
     },
     "output_type": "display_data"
    }
   ],
   "source": [
    "plot_regressions([1, 2, 3, 4, 5], [1, 2, 3, 4, 0])"
   ]
  },
  {
   "cell_type": "markdown",
   "id": "3c515389",
   "metadata": {},
   "source": [
    "Here is an interactive widget showing how the L1- and L2-regression functions are changing when we change the regression data:"
   ]
  },
  {
   "cell_type": "code",
   "execution_count": 4,
   "id": "c8b04966",
   "metadata": {},
   "outputs": [
    {
     "data": {
      "application/vnd.jupyter.widget-view+json": {
       "model_id": "966eab2e416142c6ad808c8421164d29",
       "version_major": 2,
       "version_minor": 0
      },
      "text/plain": [
       "interactive(children=(IntSlider(value=0, description='a', max=20, min=-20, step=2), IntSlider(value=0, descrip…"
      ]
     },
     "metadata": {},
     "output_type": "display_data"
    }
   ],
   "source": [
    "from ipywidgets import interact, fixed\n",
    "\n",
    "    \n",
    "limits = (-20, 20, 2)\n",
    "\n",
    "def f(a, b, c, d, e):\n",
    "    plot_regressions([0, 1, 2, 3, 4], [a, b, c, d, e], ylim = (limits[0] - 1, limits[1] + 1))\n",
    "\n",
    "interact(f, \n",
    "        a = limits, \n",
    "        b = limits, \n",
    "        c = limits, \n",
    "        d = limits,\n",
    "        e = limits,\n",
    "        continuous_update=False\n",
    "        );"
   ]
  }
 ],
 "metadata": {
  "kernelspec": {
   "display_name": "Python 3 (ipykernel)",
   "language": "python",
   "name": "python3"
  },
  "language_info": {
   "codemirror_mode": {
    "name": "ipython",
    "version": 3
   },
   "file_extension": ".py",
   "mimetype": "text/x-python",
   "name": "python",
   "nbconvert_exporter": "python",
   "pygments_lexer": "ipython3",
   "version": "3.8.13"
  },
  "vscode": {
   "interpreter": {
    "hash": "78c8e1b80b1031a1e136770481d214899efde752997b0b94966a80ddc7ada738"
   }
  }
 },
 "nbformat": 4,
 "nbformat_minor": 5
}
