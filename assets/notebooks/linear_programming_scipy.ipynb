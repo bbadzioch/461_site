{
 "cells": [
  {
   "cell_type": "markdown",
   "id": "4d96ffb4",
   "metadata": {},
   "source": [
    "# Linear programming with `scipy.optimize`"
   ]
  },
  {
   "cell_type": "markdown",
   "id": "7dea6751",
   "metadata": {},
   "source": [
    "`scipy.optimize` library provides a function `linprog` that solves linear programming problems.  \n",
    "\n",
    "Here is link to  the documentation of this function: [https://docs.scipy.org/doc/scipy/reference/generated/scipy.optimize.linprog.html](https://docs.scipy.org/doc/scipy/reference/generated/scipy.optimize.linprog.html)"
   ]
  },
  {
   "cell_type": "markdown",
   "id": "57913dfb",
   "metadata": {},
   "source": [
    "Importing `linprog` function:"
   ]
  },
  {
   "cell_type": "code",
   "execution_count": 2,
   "id": "13a7b1ee",
   "metadata": {},
   "outputs": [],
   "source": [
    "from scipy.optimize import linprog"
   ]
  },
  {
   "cell_type": "markdown",
   "id": "ffe63364",
   "metadata": {},
   "source": [
    "## Example 1"
   ]
  },
  {
   "cell_type": "markdown",
   "id": "2db7d14b",
   "metadata": {},
   "source": [
    "We want to maximize \n",
    "\n",
    "$$f(x_1, x_2) = 200 x_1 + 100 x_2$$\n",
    "\n",
    "Subject to:\n",
    "\n",
    "\\begin{align}\n",
    "x_1 + x_2 & \\leq 100\\\\\n",
    "100 x_1 + 300 x_2 & \\leq 27000\\\\\n",
    "4 x_1 + x_2 & \\leq 280 \\\\\n",
    "x_1 & \\geq 0\\\\\n",
    "x_2 & \\geq 0\n",
    "\\end{align}\n",
    "\n",
    "\n",
    "`scipy.optimize.linprog` finds a minimum, so we replace the objective function by \n",
    "\n",
    "$$g(x_1, x_2) = -200 x_1 - 100 x_2$$"
   ]
  },
  {
   "cell_type": "markdown",
   "id": "62d91cee",
   "metadata": {
    "scrolled": false
   },
   "source": [
    "In the matrix form:\n",
    "\n",
    "$$g(x_1, x_2) = \n",
    "\\begin{bmatrix}\n",
    "-200 & -100 \\\\\n",
    "\\end{bmatrix}\n",
    "\\cdot\n",
    "\\begin{bmatrix}\n",
    "x_1 \\\\ \n",
    "x_2 \\\\\n",
    "\\end{bmatrix}\n",
    "$$\n",
    "\n",
    "Constraints: \n",
    "$$\n",
    "\\begin{bmatrix}\n",
    "1 & 1 \\\\\n",
    "100 & 300 \\\\\n",
    "4 & 1 \\\\\n",
    "\\end{bmatrix}\n",
    "\\cdot\n",
    "\\begin{bmatrix}\n",
    "x_1 \\\\ \n",
    "x_2 \\\\\n",
    "\\end{bmatrix}\n",
    "\\leq \n",
    "\\begin{bmatrix}\n",
    "100 \\\\\n",
    "27000 \\\\\n",
    "280 \n",
    "\\end{bmatrix}\n",
    "$$\n",
    "\n"
   ]
  },
  {
   "cell_type": "markdown",
   "id": "c9d83dc0",
   "metadata": {},
   "source": [
    "Use `linprog` function:"
   ]
  },
  {
   "cell_type": "code",
   "execution_count": 3,
   "id": "30d85eb9",
   "metadata": {},
   "outputs": [
    {
     "data": {
      "text/plain": [
       "           con: array([], dtype=float64)\n",
       " crossover_nit: 0\n",
       "         eqlin:  marginals: array([], dtype=float64)\n",
       "  residual: array([], dtype=float64)\n",
       "           fun: -16000.0\n",
       "       ineqlin:  marginals: array([-66.66666667,  -0.        , -33.33333333])\n",
       "  residual: array([    0., 13000.,     0.])\n",
       "         lower:  marginals: array([0., 0.])\n",
       "  residual: array([60., 40.])\n",
       "       message: 'Optimization terminated successfully. (HiGHS Status 7: Optimal)'\n",
       "           nit: 2\n",
       "         slack: array([    0., 13000.,     0.])\n",
       "        status: 0\n",
       "       success: True\n",
       "         upper:  marginals: array([0., 0.])\n",
       "  residual: array([inf, inf])\n",
       "             x: array([60., 40.])"
      ]
     },
     "execution_count": 3,
     "metadata": {},
     "output_type": "execute_result"
    }
   ],
   "source": [
    "res = linprog(c = [-200, -100], \n",
    "              A_ub = [[1, 1], [100, 200], [4, 1]],\n",
    "              b_ub = [100, 27000, 280],\n",
    "              bounds = [(0, None), (0, None)], \n",
    "             )\n",
    "res"
   ]
  },
  {
   "cell_type": "markdown",
   "id": "ca0aecd1",
   "metadata": {},
   "source": [
    "Return values:\n",
    "    \n",
    "* `x`: array with coordinates that give the minimum of the objective function\n",
    "* `fun`: minimal value of the objective function\n",
    "* `slack`: values of slack variables (automatically created)\n",
    "* `success`: `True` is an optimal solution has been found\n",
    "* `status`: it is `0` if everything went fine, otherwise a code indicating what went wrong\n",
    "* `nit`: number of iterations performed"
   ]
  },
  {
   "cell_type": "markdown",
   "id": "0203d6cf",
   "metadata": {},
   "source": [
    "These values can be accessed individually:"
   ]
  },
  {
   "cell_type": "code",
   "execution_count": 4,
   "id": "0b51d667",
   "metadata": {},
   "outputs": [
    {
     "data": {
      "text/plain": [
       "array([60., 40.])"
      ]
     },
     "execution_count": 4,
     "metadata": {},
     "output_type": "execute_result"
    }
   ],
   "source": [
    "res.x"
   ]
  },
  {
   "cell_type": "code",
   "execution_count": 5,
   "id": "f07f1bae",
   "metadata": {},
   "outputs": [
    {
     "data": {
      "text/plain": [
       "array([    0., 13000.,     0.])"
      ]
     },
     "execution_count": 5,
     "metadata": {},
     "output_type": "execute_result"
    }
   ],
   "source": [
    "res.slack"
   ]
  },
  {
   "cell_type": "code",
   "execution_count": 6,
   "id": "aaad1e15",
   "metadata": {},
   "outputs": [
    {
     "data": {
      "text/plain": [
       "-16000.0"
      ]
     },
     "execution_count": 6,
     "metadata": {},
     "output_type": "execute_result"
    }
   ],
   "source": [
    "res.fun"
   ]
  },
  {
   "cell_type": "code",
   "execution_count": 7,
   "id": "a4a60b84",
   "metadata": {},
   "outputs": [
    {
     "data": {
      "text/plain": [
       "0"
      ]
     },
     "execution_count": 7,
     "metadata": {},
     "output_type": "execute_result"
    }
   ],
   "source": [
    "res.status"
   ]
  },
  {
   "cell_type": "markdown",
   "id": "47c8716f",
   "metadata": {},
   "source": [
    "## Example 2"
   ]
  },
  {
   "cell_type": "markdown",
   "id": "b2ec929e",
   "metadata": {},
   "source": [
    "Here is an example of an unbounded linear program (there is no minimum):\n",
    "\n",
    "We want to minimize \n",
    "\n",
    "$$f(x_1, x_2) = -x_1$$\n",
    "\n",
    "Subject to:\n",
    "\n",
    "\\begin{align}\n",
    "x_1 - \\frac{2}{3}x_2 & \\leq 2\\\\\n",
    "- x_1 - x_2 & \\leq -1 \\\\\n",
    "x_1 & \\geq 0\\\\\n",
    "x_2 & \\geq 0\n",
    "\\end{align}"
   ]
  },
  {
   "cell_type": "code",
   "execution_count": 11,
   "id": "3c992193",
   "metadata": {},
   "outputs": [
    {
     "data": {
      "text/plain": [
       "           con: None\n",
       " crossover_nit: 0\n",
       "         eqlin:  marginals: None\n",
       "  residual: None\n",
       "           fun: None\n",
       "       ineqlin:  marginals: None\n",
       "  residual: None\n",
       "         lower:  marginals: None\n",
       "  residual: None\n",
       "       message: \"The problem is unbounded. (HiGHS Status 10: model_status is Unbounded; primal_status is b'At upper bound')\"\n",
       "           nit: 2\n",
       "         slack: None\n",
       "        status: 3\n",
       "       success: False\n",
       "         upper:  marginals: None\n",
       "  residual: None\n",
       "             x: None"
      ]
     },
     "execution_count": 11,
     "metadata": {},
     "output_type": "execute_result"
    }
   ],
   "source": [
    "res = linprog(c = [-1, 0], \n",
    "              A_ub = [[1, -2/3], [-1, -1]],\n",
    "              b_ub = [2, -1],\n",
    "              bounds = [(0, None), (0, None)], \n",
    "             )\n",
    "res"
   ]
  }
 ],
 "metadata": {
  "kernelspec": {
   "display_name": "Python 3 (ipykernel)",
   "language": "python",
   "name": "python3"
  },
  "language_info": {
   "codemirror_mode": {
    "name": "ipython",
    "version": 3
   },
   "file_extension": ".py",
   "mimetype": "text/x-python",
   "name": "python",
   "nbconvert_exporter": "python",
   "pygments_lexer": "ipython3",
   "version": "3.8.13"
  }
 },
 "nbformat": 4,
 "nbformat_minor": 5
}
